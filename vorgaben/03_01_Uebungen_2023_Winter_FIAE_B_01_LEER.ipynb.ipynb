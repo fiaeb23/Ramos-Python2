{
 "cells": [
  {
   "cell_type": "code",
   "execution_count": 1,
   "metadata": {},
   "outputs": [],
   "source": [
    "# Übung 3.01"
   ]
  },
  {
   "cell_type": "code",
   "execution_count": null,
   "metadata": {},
   "outputs": [],
   "source": [
    "def symbolen (variable):\n",
    "    for i in variable:\n",
    "        print (i * \"x\")\n",
    "\n",
    "variable = [1,2,3]\n",
    "symbolen(variable)"
   ]
  },
  {
   "cell_type": "code",
   "execution_count": null,
   "metadata": {},
   "outputs": [],
   "source": [
    "welche ist die Antwort?\n",
    "a)  ANTWORT\n",
    "x\n",
    "xx\n",
    "xxx\n",
    "\n",
    "b)\n",
    "x\n",
    "xx\n",
    "x\n",
    "\n",
    "c)\n",
    "xxx\n",
    "xx\n",
    "x"
   ]
  },
  {
   "cell_type": "code",
   "execution_count": null,
   "metadata": {},
   "outputs": [],
   "source": []
  },
  {
   "cell_type": "code",
   "execution_count": null,
   "metadata": {},
   "outputs": [],
   "source": []
  },
  {
   "cell_type": "code",
   "execution_count": null,
   "metadata": {},
   "outputs": [],
   "source": [
    "# Übung 3.03"
   ]
  },
  {
   "cell_type": "code",
   "execution_count": 6,
   "metadata": {},
   "outputs": [],
   "source": [
    "test = [10,11,12]\n",
    "test[1] = 15\n",
    "test"
   ]
  },
  {
   "cell_type": "code",
   "execution_count": null,
   "metadata": {},
   "outputs": [],
   "source": [
    "welche ist die Antwort?\n",
    "a) [10,11,12]\n",
    "b) [10,15,12]  ANTWORT\n",
    "c) [12,11,10]"
   ]
  },
  {
   "cell_type": "code",
   "execution_count": null,
   "metadata": {},
   "outputs": [],
   "source": []
  },
  {
   "cell_type": "code",
   "execution_count": null,
   "metadata": {},
   "outputs": [],
   "source": [
    "# Übung 3.07"
   ]
  },
  {
   "cell_type": "code",
   "execution_count": 8,
   "metadata": {},
   "outputs": [],
   "source": [
    "def test2():\n",
    "    string = 'hallo welt-test'\n",
    "    print(string)\n",
    "    \n",
    "string = 'hallo welt' \n",
    "test2()\n",
    "print(string)"
   ]
  },
  {
   "cell_type": "raw",
   "metadata": {},
   "source": [
    "welche ist die Antwort?\n",
    "a)\n",
    "hallo welt\n",
    "hallo welt\n",
    "\n",
    "b)\n",
    "hallo welt\n",
    "hallo welt-test\n",
    "\n",
    "c)                 ANTWORT\n",
    "hallo welt-test\n",
    "hallo welt"
   ]
  },
  {
   "cell_type": "code",
   "execution_count": null,
   "metadata": {},
   "outputs": [],
   "source": []
  }
 ],
 "metadata": {
  "kernelspec": {
   "display_name": "Python 3 (ipykernel)",
   "language": "python",
   "name": "python3"
  },
  "language_info": {
   "codemirror_mode": {
    "name": "ipython",
    "version": 3
   },
   "file_extension": ".py",
   "mimetype": "text/x-python",
   "name": "python",
   "nbconvert_exporter": "python",
   "pygments_lexer": "ipython3",
   "version": "3.9.7"
  }
 },
 "nbformat": 4,
 "nbformat_minor": 4
}
