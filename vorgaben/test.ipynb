{
 "cells": [
  {
   "cell_type": "code",
   "execution_count": null,
   "metadata": {},
   "outputs": [],
   "source": [
    "import sqlite3\n",
    "\n",
    "connection = sqlite3.connect(\"sqlite_test_1.db\")\n",
    "#print(dir(sqlite3))\n",
    "\n",
    "\n",
    "#wird verwendet, um einen \"Cursor\" zu erstellen, der als Kommunikationskanal zwischen deinem Programm und der Datenbank fungiert\n",
    "cursor = connection.cursor()\n",
    "\n",
    "#Datenbank Tabelle erzeugen\n",
    "sql = \"Create TABLE Bevoelkerung(\\\n",
    "    Stadt TEXT, \\\n",
    "    Eigenschaft_1 REAL, \\\n",
    "    Eigenschaft_2 REAL, \\\n",
    "    Eigenschaft_3 REAL)\"\n",
    "\n",
    "sql = \"Insert INTO Bevoelkerung VALUES ('Frankfurt',30001,4,5)\"\n",
    "#Diese Zeile führt das SQL-Statement sql auf der Datenbank aus\n",
    "cursor.execute(sql)\n",
    "#Die commit()-Methode überträgt die Änderungen an die Datenbank und speichert sie dauerhaft ab\n",
    "connection.commit()\n",
    "\n",
    "#schließt die Verbindung zur Datenbank\n",
    "connection.close()\n",
    "\n",
    "print(sqlite_test_1.db)\n"
   ]
  },
  {
   "cell_type": "code",
   "execution_count": null,
   "metadata": {},
   "outputs": [],
   "source": [
    "#Alternative ordentlich"
   ]
  },
  {
   "cell_type": "code",
   "execution_count": 10,
   "metadata": {},
   "outputs": [],
   "source": [
    "import sqlite3\n",
    "\n",
    "connection = sqlite3.connect(\"sqlite_test_1.db\")\n",
    "\n",
    "# Ein Cursor wird erstellt, um mit der Datenbank zu interagieren\n",
    "cursor = connection.cursor()\n",
    "\n",
    "#'Eine Tabelle mit dem Namen \"Bevoelkerung\" wird erstellt\n",
    "# create_table_sql = \"\"\"\n",
    "# CREATE TABLE Bevoelkerung(\n",
    "#     Stadt TEXT,\n",
    "#     Eigenschaft_1 REAL,\n",
    "#     Eigenschaft_2 REAL,\n",
    "#     Eigenschaft_3 REAL\n",
    "# )\n",
    "# \"\"\"\n",
    "# cursor.execute(create_table_sql)\n",
    "\n",
    "\n",
    "# Daten werden in die Tabelle eingefügt\n",
    "insert_data_sql = [\n",
    "    ('Frankfurt', 30001, 4, 5),\n",
    "    ('Frankfurt', 30002, 6, 7.9), \n",
    "    ('Frankfurt', 30003, 8, 9), \n",
    "    ('Kassel', 20001, 8, 1), \n",
    "    ('Kassel', 20002, 2, 3), \n",
    "    ('Berlin', 1111, 7, 9), \n",
    "    ('Dortmund', 53130, 2, 17) ] \n",
    "\n",
    "for datensatz in insert_data_sql:\n",
    "    #print(datensatz)\n",
    "    stadt, eigenschaft_1, eigenschaft_2, eigenschaft_3 = datensatz\n",
    "        \n",
    "\n",
    "    select_sql = \"SELECT * FROM Bevoelkerung WHERE Stadt=? AND Eigenschaft_1=? AND Eigenschaft_2=? AND Eigenschaft_3=?\"\n",
    "    cursor.execute(select_sql, (stadt, eigenschaft_1, eigenschaft_2, eigenschaft_3))\n",
    "    vorhanden = cursor.fetchone()\n",
    "    \n",
    "    # Wenn kein entsprechender Datensatz gefunden wurde, füge den Datensatz ein\n",
    "    if not vorhanden:\n",
    "        insert_sql = \"INSERT INTO Bevoelkerung VALUES (?, ?, ?, ?)\"\n",
    "        cursor.execute(insert_sql, (stadt, eigenschaft_1, eigenschaft_2, eigenschaft_3))\n",
    "        \n",
    "# Die Änderungen werden in der Datenbank gespeichert\n",
    "connection.commit()\n",
    "\n",
    "# Die Verbindung zur Datenbank wird geschlossen\n",
    "connection.close()\n"
   ]
  },
  {
   "cell_type": "code",
   "execution_count": 11,
   "metadata": {},
   "outputs": [
    {
     "name": "stdout",
     "output_type": "stream",
     "text": [
      "('Frankfurt', 30001.0, 4.0, 5.0)\n",
      "('Frankfurt', 30002.0, 6.0, 7.9)\n",
      "('Frankfurt', 30003.0, 8.0, 9.0)\n",
      "('Kassel', 20001.0, 8.0, 1.0)\n",
      "('Kassel', 20002.0, 2.0, 3.0)\n",
      "('Berlin', 1111.0, 7.0, 9.0)\n",
      "('Dortmund', 53130.0, 2.0, 17.0)\n"
     ]
    }
   ],
   "source": [
    "import sqlite3\n",
    "\n",
    "connection = sqlite3.connect(\"sqlite_test_1.db\")\n",
    "cursor = connection.cursor()\n",
    "\n",
    "# Eine SELECT-Abfrage, um alle Datensätze aus der Tabelle abzurufen\n",
    "select_data_sql = \"SELECT * FROM Bevoelkerung\"\n",
    "cursor.execute(select_data_sql)\n",
    "\n",
    "# Alle abgerufenen Datensätze werden in einer Liste gespeichert\n",
    "results = cursor.fetchall()\n",
    "\n",
    "# Die Liste wird durchlaufen und jeder Datensatz wird angezeigt\n",
    "for row in results:\n",
    "    print(row)\n",
    "\n",
    "connection.close()\n"
   ]
  }
 ],
 "metadata": {
  "kernelspec": {
   "display_name": "Python 3",
   "language": "python",
   "name": "python3"
  },
  "language_info": {
   "codemirror_mode": {
    "name": "ipython",
    "version": 3
   },
   "file_extension": ".py",
   "mimetype": "text/x-python",
   "name": "python",
   "nbconvert_exporter": "python",
   "pygments_lexer": "ipython3",
   "version": "3.11.0"
  },
  "orig_nbformat": 4
 },
 "nbformat": 4,
 "nbformat_minor": 2
}
