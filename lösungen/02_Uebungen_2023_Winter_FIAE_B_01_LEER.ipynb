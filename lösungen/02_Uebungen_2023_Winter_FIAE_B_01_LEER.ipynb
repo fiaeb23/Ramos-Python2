{
 "cells": [
  {
   "cell_type": "code",
   "execution_count": 1,
   "metadata": {},
   "outputs": [],
   "source": [
    "# Übung 11"
   ]
  },
  {
   "cell_type": "code",
   "execution_count": 43,
   "metadata": {},
   "outputs": [],
   "source": [
    "liste = ['Apfel', 'Banane','Kiwi']\n",
    "test = liste[0:1]\n",
    "print(test)"
   ]
  },
  {
   "cell_type": "raw",
   "metadata": {},
   "source": [
    "welche ist die Antwort?\n",
    "a) ['Apfel']    ANTWORT\n",
    "b) ['Banane']\n",
    "c) ['Kiwi']"
   ]
  },
  {
   "cell_type": "code",
   "execution_count": null,
   "metadata": {},
   "outputs": [],
   "source": []
  },
  {
   "cell_type": "code",
   "execution_count": null,
   "metadata": {},
   "outputs": [],
   "source": [
    "# Übung 12"
   ]
  },
  {
   "cell_type": "code",
   "execution_count": 1,
   "metadata": {},
   "outputs": [
    {
     "name": "stdout",
     "output_type": "stream",
     "text": [
      "['Kiwi']\n"
     ]
    }
   ],
   "source": [
    "# INDEX    -3        -2      -1\n",
    "liste = ['Apfel', 'Banane','Kiwi']\n",
    "\n",
    "test1 = liste[-1:]\n",
    "print(test1)"
   ]
  },
  {
   "cell_type": "raw",
   "metadata": {},
   "source": [
    "welche ist die Antwort?\n",
    "a) ['Apfel']\n",
    "b) ['Banane']\n",
    "c) ['Kiwi']   ANTWORT"
   ]
  },
  {
   "cell_type": "code",
   "execution_count": null,
   "metadata": {},
   "outputs": [],
   "source": []
  },
  {
   "cell_type": "code",
   "execution_count": null,
   "metadata": {},
   "outputs": [],
   "source": [
    "# Übung 13"
   ]
  },
  {
   "cell_type": "code",
   "execution_count": 2,
   "metadata": {},
   "outputs": [
    {
     "name": "stdout",
     "output_type": "stream",
     "text": [
      "3\n"
     ]
    }
   ],
   "source": [
    "def x():\n",
    "    return 2\n",
    "\n",
    "x = 1+x()\n",
    "print(x)"
   ]
  },
  {
   "cell_type": "code",
   "execution_count": null,
   "metadata": {},
   "outputs": [],
   "source": [
    "welche ist die Antwort?\n",
    "a) 2\n",
    "b) 3\n",
    "c) 4"
   ]
  },
  {
   "cell_type": "code",
   "execution_count": null,
   "metadata": {},
   "outputs": [],
   "source": []
  },
  {
   "cell_type": "code",
   "execution_count": null,
   "metadata": {},
   "outputs": [],
   "source": [
    "# Übung 14"
   ]
  },
  {
   "cell_type": "code",
   "execution_count": 1,
   "metadata": {},
   "outputs": [
    {
     "name": "stdout",
     "output_type": "stream",
     "text": [
      "[2, 5, 6]\n"
     ]
    }
   ],
   "source": [
    "def f(v):    # v = [4, 5, 6]      \n",
    "    v[0] = 2 # v = [2, 5, 6]           \n",
    "    print(v)   \n",
    "\n",
    "a = [4, 5, 6]\n",
    "f(a)"
   ]
  },
  {
   "cell_type": "raw",
   "metadata": {},
   "source": [
    "welche ist die Antwort?\n",
    "a) [4, 5, 6]\n",
    "b) [4, 2, 6]\n",
    "c) [2, 5, 6]  ANTWORT"
   ]
  },
  {
   "cell_type": "code",
   "execution_count": null,
   "metadata": {},
   "outputs": [],
   "source": []
  },
  {
   "cell_type": "code",
   "execution_count": null,
   "metadata": {},
   "outputs": [],
   "source": [
    "# Übung 15"
   ]
  },
  {
   "cell_type": "code",
   "execution_count": 8,
   "metadata": {},
   "outputs": [],
   "source": [
    "def inkrementieren(a, b=1):  # Schritt 2  # b = 1 Standardwert  a = 3 , b = 0 \n",
    "    return a+b\n",
    "\n",
    "print(inkrementieren(3,0))   # Schritt 1"
   ]
  },
  {
   "cell_type": "raw",
   "metadata": {},
   "source": [
    "welche ist die Antwort?\n",
    "a) 3 ANTWORT\n",
    "b) 4\n",
    "c) 5"
   ]
  },
  {
   "cell_type": "code",
   "execution_count": null,
   "metadata": {},
   "outputs": [],
   "source": []
  },
  {
   "cell_type": "code",
   "execution_count": null,
   "metadata": {},
   "outputs": [],
   "source": [
    "# Übung 16"
   ]
  },
  {
   "cell_type": "code",
   "execution_count": 10,
   "metadata": {},
   "outputs": [],
   "source": [
    "def inkrementieren(a, b=1):       \n",
    "    return a+b\n",
    "\n",
    "print(inkrementieren(3))"
   ]
  },
  {
   "cell_type": "raw",
   "metadata": {},
   "source": [
    "welche ist die Antwort?\n",
    "a) 31\n",
    "b) 4              ANTWORT\n",
    "c) keine Antwort"
   ]
  },
  {
   "cell_type": "code",
   "execution_count": null,
   "metadata": {},
   "outputs": [],
   "source": []
  },
  {
   "cell_type": "code",
   "execution_count": null,
   "metadata": {},
   "outputs": [],
   "source": [
    "# Übung 17"
   ]
  },
  {
   "cell_type": "code",
   "execution_count": 55,
   "metadata": {},
   "outputs": [],
   "source": [
    "def sterne():    \n",
    "    for i in range(2):        \n",
    "        print('*' * 5)\n",
    "        \n",
    "sterne()"
   ]
  },
  {
   "cell_type": "raw",
   "metadata": {},
   "source": [
    "welche ist die Antwort?\n",
    "a) *****\n",
    "\n",
    "b) *****    ANTWORT\n",
    "   *****\n",
    "\n",
    "c)*****\n",
    "  *****\n",
    "  *****"
   ]
  },
  {
   "cell_type": "code",
   "execution_count": null,
   "metadata": {},
   "outputs": [],
   "source": []
  },
  {
   "cell_type": "code",
   "execution_count": 14,
   "metadata": {},
   "outputs": [],
   "source": [
    "# Übung 18"
   ]
  },
  {
   "cell_type": "code",
   "execution_count": 20,
   "metadata": {},
   "outputs": [],
   "source": [
    "def sagen(a='hallo', b='tschüss'):  # Standardwert     \n",
    "    print(a + ' und ' + b)   \n",
    "\n",
    "sagen(b='adeu', a='wie geht es')"
   ]
  },
  {
   "cell_type": "raw",
   "metadata": {},
   "source": [
    "welche ist die Antwort?\n",
    "a) hallo und tschüss\n",
    "b) wie geht es und adeu     ANTWORT\n",
    "c) adeu und wie geht es"
   ]
  },
  {
   "cell_type": "code",
   "execution_count": null,
   "metadata": {},
   "outputs": [],
   "source": []
  },
  {
   "cell_type": "code",
   "execution_count": 56,
   "metadata": {},
   "outputs": [],
   "source": [
    "# Übung 19"
   ]
  },
  {
   "cell_type": "code",
   "execution_count": 24,
   "metadata": {},
   "outputs": [],
   "source": [
    "print (\"HEMD ........................... 1\")\n",
    "print (\"GÜRTEL ......................... 2\")\n",
    "print (\"SCHUHE.......................... 3\")\n",
    "\n",
    " \n",
    "relation = {1:35, 2:10, 3:50}\n",
    " \n",
    "code = 1\n",
    "print (\"Der preis ist: euros\", relation[code])\n",
    "menge = 3\n",
    "\n",
    "preis = float(relation[code] * menge)-10\n",
    " \n",
    "print (\"Insgesamt: $\", preis)"
   ]
  },
  {
   "cell_type": "raw",
   "metadata": {},
   "source": [
    "Wie viel ist der Preis insgesamt?\n",
    "a) Insgesamt: $ 95.0   ANTWORT\n",
    "b) Insgesamt: $ 105.0\n",
    "c) Insgesamt: $ 115.0"
   ]
  },
  {
   "cell_type": "code",
   "execution_count": null,
   "metadata": {},
   "outputs": [],
   "source": []
  },
  {
   "cell_type": "code",
   "execution_count": 2,
   "metadata": {},
   "outputs": [],
   "source": [
    "# Übung 20"
   ]
  },
  {
   "cell_type": "code",
   "execution_count": 2,
   "metadata": {},
   "outputs": [
    {
     "name": "stdout",
     "output_type": "stream",
     "text": [
      "{'nombre': 'Calico', 'edad': 26}\n"
     ]
    }
   ],
   "source": [
    "p_dic = {'nombre':'Calico', 'edad':25}   \n",
    "p_dic['edad'] = p_dic['edad'] + 1   \n",
    "print(p_dic)"
   ]
  },
  {
   "cell_type": "raw",
   "metadata": {},
   "source": [
    "welche ist die Antwort?\n",
    "a) {'nombre': 'Calico', 'edad': 24}\n",
    "b) {'nombre': 'Calico', 'edad': 25}\n",
    "c) {'nombre': 'Calico', 'edad': 26}  ANTWORT"
   ]
  },
  {
   "cell_type": "code",
   "execution_count": null,
   "metadata": {},
   "outputs": [],
   "source": []
  }
 ],
 "metadata": {
  "kernelspec": {
   "display_name": "Python 3 (ipykernel)",
   "language": "python",
   "name": "python3"
  },
  "language_info": {
   "codemirror_mode": {
    "name": "ipython",
    "version": 3
   },
   "file_extension": ".py",
   "mimetype": "text/x-python",
   "name": "python",
   "nbconvert_exporter": "python",
   "pygments_lexer": "ipython3",
   "version": "3.9.7"
  }
 },
 "nbformat": 4,
 "nbformat_minor": 4
}
