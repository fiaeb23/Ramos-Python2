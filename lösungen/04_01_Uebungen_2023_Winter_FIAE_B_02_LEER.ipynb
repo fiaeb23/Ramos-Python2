{
 "cells": [
  {
   "cell_type": "code",
   "execution_count": 5,
   "metadata": {},
   "outputs": [],
   "source": [
    "##### Übung 4.01"
   ]
  },
  {
   "cell_type": "code",
   "execution_count": 17,
   "metadata": {},
   "outputs": [],
   "source": [
    "zahlen = {\n",
    "    \"id_1\": \"123\",\n",
    "    \"id_2\": \"456\",\n",
    "    \"id_3\": \"189\"\n",
    "}"
   ]
  },
  {
   "cell_type": "raw",
   "metadata": {},
   "source": [
    "Lassen Sie durch die Methode „items()“ über eine For-Schleife die Schlüssel und die Objekte des Dictionarys „zahlen“ zeigen:"
   ]
  },
  {
   "cell_type": "code",
   "execution_count": null,
   "metadata": {},
   "outputs": [],
   "source": [
    "for id, value in zahlen.items():\n",
    "    print(\"Schlüssel:\", id)\n",
    "    print(\"Objekt:\", value)"
   ]
  },
  {
   "cell_type": "code",
   "execution_count": 3,
   "metadata": {},
   "outputs": [],
   "source": [
    "##### Übung 4.02"
   ]
  },
  {
   "cell_type": "code",
   "execution_count": null,
   "metadata": {},
   "outputs": [],
   "source": [
    "buchstaben = ['a','b','c','d','e','f','g','h','i','j']"
   ]
  },
  {
   "cell_type": "code",
   "execution_count": null,
   "metadata": {},
   "outputs": [],
   "source": [
    "Welcher Ausdruck ist wahr?\n",
    "\n",
    "a) buchstaben[:] == buchstaben[::]\n",
    "b) buchstaben[:] != buchstaben[::]\n",
    "c) len(buchstaben[:]) == len(buchstaben[::])\n",
    "d) len(buchstaben[:]) != len(buchstaben[::])"
   ]
  },
  {
   "cell_type": "code",
   "execution_count": null,
   "metadata": {},
   "outputs": [],
   "source": [
    "a) buchstaben[:] == buchstaben[::]              #gleiche werte\n",
    "c) len(buchstaben[:]) == len(buchstaben[::])    #länge prüfung"
   ]
  },
  {
   "cell_type": "code",
   "execution_count": null,
   "metadata": {},
   "outputs": [],
   "source": []
  },
  {
   "cell_type": "code",
   "execution_count": null,
   "metadata": {},
   "outputs": [],
   "source": [
    "##### Übung 4.03"
   ]
  },
  {
   "cell_type": "code",
   "execution_count": null,
   "metadata": {},
   "outputs": [],
   "source": [
    "Betrachten Sie folgenden Code:"
   ]
  },
  {
   "cell_type": "code",
   "execution_count": null,
   "metadata": {},
   "outputs": [],
   "source": [
    "numbers = [1,2,3,4,5,6,7,8,9,10,11,12]\n",
    "numbers[::2] = [0,0,0,0,0,0]\n",
    "print(numbers)"
   ]
  },
  {
   "cell_type": "code",
   "execution_count": null,
   "metadata": {},
   "outputs": [],
   "source": [
    "Was ist die erwartete Ausgabe?\n",
    "a) [1, 0, 3, 0, 5, 0, 7, 0, 9, 0, 11, 0]\n",
    "b) [1, 2, 3, 4, 5, 6, 7, 8, 9,10, 11,12]\n",
    "c) [0, 2, 0, 4, 0, 6, 0, 8, 0, 10, 0, 12]\n",
    "d) [0, 0, 0, 0, 0, 0]"
   ]
  },
  {
   "cell_type": "code",
   "execution_count": null,
   "metadata": {},
   "outputs": [],
   "source": [
    "c) [0, 2, 0, 4, 0, 6, 0, 8, 0, 10, 0, 12]"
   ]
  },
  {
   "cell_type": "code",
   "execution_count": null,
   "metadata": {},
   "outputs": [],
   "source": []
  },
  {
   "cell_type": "code",
   "execution_count": 4,
   "metadata": {},
   "outputs": [],
   "source": [
    "##### Übung 4.04"
   ]
  },
  {
   "cell_type": "code",
   "execution_count": 7,
   "metadata": {},
   "outputs": [],
   "source": [
    "def run():\n",
    "    print(\"legen wir los\")\n"
   ]
  },
  {
   "attachments": {},
   "cell_type": "markdown",
   "metadata": {},
   "source": [
    "Lassen Sie die Funktion \"run\" ausführen"
   ]
  },
  {
   "cell_type": "code",
   "execution_count": null,
   "metadata": {},
   "outputs": [],
   "source": [
    "run()"
   ]
  },
  {
   "cell_type": "code",
   "execution_count": null,
   "metadata": {},
   "outputs": [],
   "source": []
  },
  {
   "cell_type": "code",
   "execution_count": 6,
   "metadata": {},
   "outputs": [],
   "source": [
    "##### Übung 4.05"
   ]
  },
  {
   "attachments": {},
   "cell_type": "markdown",
   "metadata": {},
   "source": [
    "Holen Sie die Funktion „laufen“ über die Python-Datei „module.py“ ein, um die Funktion „laufen“ auszuführen."
   ]
  },
  {
   "cell_type": "code",
   "execution_count": null,
   "metadata": {},
   "outputs": [],
   "source": [
    "import module\n",
    "\n",
    "module.laufen()\n"
   ]
  },
  {
   "cell_type": "code",
   "execution_count": null,
   "metadata": {},
   "outputs": [],
   "source": [
    "from module import laufen\n",
    "\n",
    "laufen()"
   ]
  },
  {
   "cell_type": "code",
   "execution_count": 8,
   "metadata": {},
   "outputs": [],
   "source": [
    "##### Übung 4.06"
   ]
  },
  {
   "attachments": {},
   "cell_type": "markdown",
   "metadata": {},
   "source": [
    "Rufen Sie die Funktionen a, b, _c aus der Python-Datei \"variablen\" auf. Wie lautet die Antwort?\n"
   ]
  },
  {
   "cell_type": "code",
   "execution_count": null,
   "metadata": {},
   "outputs": [],
   "source": [
    "import variablen\n",
    "\n",
    "variablen.a()\n",
    "variablen.b()\n",
    "variablen._c()\n",
    "\n",
    "print(variablen.a())\n",
    "print(variablen.b)\n",
    "print(variablen._c())"
   ]
  },
  {
   "cell_type": "code",
   "execution_count": null,
   "metadata": {},
   "outputs": [],
   "source": []
  },
  {
   "cell_type": "code",
   "execution_count": 10,
   "metadata": {},
   "outputs": [],
   "source": [
    "##### Übung 4.07"
   ]
  },
  {
   "cell_type": "raw",
   "metadata": {},
   "source": [
    "Rufen Sie alle Funktionen aus der Python-Datei \"variablen.py\" auf. Wie lautet die Antwort?"
   ]
  },
  {
   "cell_type": "code",
   "execution_count": null,
   "metadata": {},
   "outputs": [],
   "source": [
    "__all__ = ['a','b', '_c', 'd']\n",
    "\n",
    "def a():\n",
    "\treturn \"in a\"\n",
    "\n",
    "b = \"Wert von b\"\n",
    "\n",
    "def _c():\n",
    "\treturn \"in _c\"\n",
    "\n",
    "def d():\n",
    "\treturn \"in d\""
   ]
  },
  {
   "cell_type": "code",
   "execution_count": null,
   "metadata": {},
   "outputs": [],
   "source": [
    "import variablen\n",
    "\n",
    "variablen.a()\n",
    "variablen.b()\n",
    "variablen._c()\n",
    "variablen.d()\n",
    "\n",
    "\n",
    "print(variablen.a())\n",
    "print(variablen.b)\n",
    "print(variablen._c())\n",
    "print(variablen.d())\n",
    "\n",
    "\n",
    "#from variablen import * "
   ]
  }
 ],
 "metadata": {
  "kernelspec": {
   "display_name": "Python 3 (ipykernel)",
   "language": "python",
   "name": "python3"
  },
  "language_info": {
   "codemirror_mode": {
    "name": "ipython",
    "version": 3
   },
   "file_extension": ".py",
   "mimetype": "text/x-python",
   "name": "python",
   "nbconvert_exporter": "python",
   "pygments_lexer": "ipython3",
   "version": "3.9.7"
  }
 },
 "nbformat": 4,
 "nbformat_minor": 4
}
